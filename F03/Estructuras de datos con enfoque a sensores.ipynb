{
 "cells": [
  {
   "cell_type": "markdown",
   "metadata": {},
   "source": [
    "# Estructuras de Datos en Python Aplicadas a Electrónica\n",
    "\n",
    "Exploraremos las estructuras de datos en Python con ejemplos aplicados a la recolección y procesamiento de datos de sensores en electrónica."
   ]
  },
  {
   "cell_type": "markdown",
   "metadata": {},
   "source": [
    "## 1. Tuplas (Datos Inmutables)\n",
    "\n",
    "Las tuplas son estructuras inmutables, útiles para almacenar datos que no deben cambiar, como calibraciones de sensores o coordenadas fijas."
   ]
  },
  {
   "cell_type": "code",
   "execution_count": 1,
   "metadata": {},
   "outputs": [
    {
     "name": "stdout",
     "output_type": "stream",
     "text": [
      "Valores de calibración: (0, 25, 50, 75, 100)\n"
     ]
    }
   ],
   "source": [
    "# Ejemplo: Valores de calibración de un sensor de temperatura\n",
    "calibracion_temp = (0, 25, 50, 75, 100)  # °C\n",
    "print(\"Valores de calibración:\", calibracion_temp)\n",
    "\n",
    "# Intentar modificar una tupla genera un error\n",
    "# calibracion_temp[0] = 10  # Esto generaría un TypeError"
   ]
  },
  {
   "cell_type": "markdown",
   "metadata": {
    "jp-MarkdownHeadingCollapsed": true
   },
   "source": [
    "## 2. Listas (Datos Dinámicos)\n",
    "\n",
    "Las listas permiten almacenar y modificar datos en tiempo real, como lecturas de sensores."
   ]
  },
  {
   "cell_type": "code",
   "execution_count": 2,
   "metadata": {},
   "outputs": [
    {
     "name": "stdout",
     "output_type": "stream",
     "text": [
      "Lecturas iniciales: [22.3, 23.1, 22.8]\n",
      "Lecturas después de nuevas mediciones: [22.3, 23.1, 22.8, 23.4, 22.9]\n",
      "Lecturas tras eliminar un dato incorrecto: [22.3, 22.8, 23.4, 22.9]\n"
     ]
    }
   ],
   "source": [
    "# Ejemplo: Lecturas de un sensor de temperatura\n",
    "lecturas_temp = [22.3, 23.1, 22.8]\n",
    "print(\"Lecturas iniciales:\", lecturas_temp)\n",
    "\n",
    "# Agregar nuevas lecturas dinámicamente\n",
    "lecturas_temp.append(23.4)\n",
    "lecturas_temp.append(22.9)\n",
    "print(\"Lecturas después de nuevas mediciones:\", lecturas_temp)\n",
    "\n",
    "# Eliminar una lectura anómala\n",
    "lecturas_temp.remove(23.1)\n",
    "print(\"Lecturas tras eliminar un dato incorrecto:\", lecturas_temp)"
   ]
  },
  {
   "cell_type": "markdown",
   "metadata": {
    "jp-MarkdownHeadingCollapsed": true
   },
   "source": [
    "## 3. Diccionarios (Asociación de Datos)\n",
    "\n",
    "Los diccionarios permiten almacenar datos con identificadores, útiles para redes de sensores."
   ]
  },
  {
   "cell_type": "code",
   "execution_count": 3,
   "metadata": {},
   "outputs": [
    {
     "name": "stdout",
     "output_type": "stream",
     "text": [
      "Datos de sensores: {'sensor_1': 22.5, 'sensor_2': 23.1, 'sensor_3': 22.8}\n",
      "Temperatura del sensor_2: 23.1 °C\n",
      "Datos después de actualización: {'sensor_1': 22.5, 'sensor_2': 23.5, 'sensor_3': 22.8}\n"
     ]
    }
   ],
   "source": [
    "# Ejemplo: Datos de sensores identificados por nombre\n",
    "sensores = {\n",
    "    \"sensor_1\": 22.5,\n",
    "    \"sensor_2\": 23.1,\n",
    "    \"sensor_3\": 22.8\n",
    "}\n",
    "print(\"Datos de sensores:\", sensores)\n",
    "\n",
    "# Acceder a un valor específico\n",
    "print(\"Temperatura del sensor_2:\", sensores[\"sensor_2\"], \"°C\")\n",
    "\n",
    "# Actualizar el valor de un sensor\n",
    "sensores[\"sensor_2\"] = 23.5\n",
    "print(\"Datos después de actualización:\", sensores)"
   ]
  },
  {
   "cell_type": "markdown",
   "metadata": {
    "jp-MarkdownHeadingCollapsed": true
   },
   "source": [
    "## 4. Conjuntos (Eliminación de Duplicados)\n",
    "\n",
    "Los conjuntos eliminan valores repetidos, lo que es útil para limpiar datos de sensores."
   ]
  },
  {
   "cell_type": "code",
   "execution_count": 4,
   "metadata": {},
   "outputs": [
    {
     "name": "stdout",
     "output_type": "stream",
     "text": [
      "Lecturas originales: [22.5, 23.1, 22.8, 23.4, 22.9, 22.5, 23.1]\n",
      "Lecturas únicas: {23.4, 23.1, 22.9, 22.8, 22.5}\n"
     ]
    }
   ],
   "source": [
    "# Ejemplo: Filtrar lecturas duplicadas\n",
    "lecturas_con_duplicados = [22.5, 23.1, 22.8, 23.4, 22.9, 22.5, 23.1]\n",
    "lecturas_unicas = set(lecturas_con_duplicados)\n",
    "print(\"Lecturas originales:\", lecturas_con_duplicados)\n",
    "print(\"Lecturas únicas:\", lecturas_unicas)"
   ]
  },
  {
   "cell_type": "code",
   "execution_count": null,
   "metadata": {},
   "outputs": [],
   "source": []
  },
  {
   "cell_type": "code",
   "execution_count": null,
   "metadata": {
    "editable": true,
    "slideshow": {
     "slide_type": ""
    },
    "tags": []
   },
   "outputs": [],
   "source": []
  },
  {
   "cell_type": "code",
   "execution_count": null,
   "metadata": {},
   "outputs": [],
   "source": []
  },
  {
   "cell_type": "code",
   "execution_count": null,
   "metadata": {},
   "outputs": [],
   "source": []
  },
  {
   "cell_type": "code",
   "execution_count": null,
   "metadata": {},
   "outputs": [],
   "source": []
  }
 ],
 "metadata": {
  "kernelspec": {
   "display_name": "Python 3 (ipykernel)",
   "language": "python",
   "name": "python3"
  },
  "language_info": {
   "codemirror_mode": {
    "name": "ipython",
    "version": 3
   },
   "file_extension": ".py",
   "mimetype": "text/x-python",
   "name": "python",
   "nbconvert_exporter": "python",
   "pygments_lexer": "ipython3",
   "version": "3.13.2"
  }
 },
 "nbformat": 4,
 "nbformat_minor": 4
}
